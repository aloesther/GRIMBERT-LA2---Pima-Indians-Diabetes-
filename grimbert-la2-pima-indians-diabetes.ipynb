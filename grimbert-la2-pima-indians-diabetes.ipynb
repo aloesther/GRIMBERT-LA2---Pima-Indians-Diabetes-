{
 "cells": [
  {
   "cell_type": "markdown",
   "id": "72b74688",
   "metadata": {
    "papermill": {
     "duration": 0.022888,
     "end_time": "2022-05-27T15:45:56.913934",
     "exception": false,
     "start_time": "2022-05-27T15:45:56.891046",
     "status": "completed"
    },
    "tags": []
   },
   "source": [
    "# Libraries"
   ]
  },
  {
   "cell_type": "code",
   "execution_count": 1,
   "id": "9eb2d67d",
   "metadata": {
    "_cell_guid": "b1076dfc-b9ad-4769-8c92-a6c4dae69d19",
    "_uuid": "8f2839f25d086af736a60e9eeb907d3b93b6e0e5",
    "execution": {
     "iopub.execute_input": "2022-05-27T15:45:56.964410Z",
     "iopub.status.busy": "2022-05-27T15:45:56.963098Z",
     "iopub.status.idle": "2022-05-27T15:45:58.544701Z",
     "shell.execute_reply": "2022-05-27T15:45:58.545243Z",
     "shell.execute_reply.started": "2022-05-27T15:15:24.560056Z"
    },
    "papermill": {
     "duration": 1.608874,
     "end_time": "2022-05-27T15:45:58.545636",
     "exception": false,
     "start_time": "2022-05-27T15:45:56.936762",
     "status": "completed"
    },
    "tags": []
   },
   "outputs": [],
   "source": [
    "import pandas as pd\n",
    "import numpy as np\n",
    "from matplotlib import pyplot as plt\n",
    "import seaborn as sns\n",
    "\n",
    "from sklearn.model_selection import train_test_split\n",
    "from sklearn.tree import DecisionTreeClassifier\n",
    "from sklearn.metrics import accuracy_score, confusion_matrix, classification_report, mean_squared_error, r2_score\n",
    "from sklearn.model_selection import cross_val_score\n",
    "from sklearn.linear_model import LogisticRegression"
   ]
  },
  {
   "cell_type": "markdown",
   "id": "71c2476f",
   "metadata": {
    "papermill": {
     "duration": 0.021527,
     "end_time": "2022-05-27T15:45:58.589196",
     "exception": false,
     "start_time": "2022-05-27T15:45:58.567669",
     "status": "completed"
    },
    "tags": []
   },
   "source": [
    "# Import the dataset"
   ]
  },
  {
   "cell_type": "code",
   "execution_count": 2,
   "id": "6765c211",
   "metadata": {
    "execution": {
     "iopub.execute_input": "2022-05-27T15:45:58.638037Z",
     "iopub.status.busy": "2022-05-27T15:45:58.637382Z",
     "iopub.status.idle": "2022-05-27T15:45:58.653922Z",
     "shell.execute_reply": "2022-05-27T15:45:58.654488Z",
     "shell.execute_reply.started": "2022-05-27T15:15:26.127653Z"
    },
    "papermill": {
     "duration": 0.043607,
     "end_time": "2022-05-27T15:45:58.654666",
     "exception": false,
     "start_time": "2022-05-27T15:45:58.611059",
     "status": "completed"
    },
    "tags": []
   },
   "outputs": [],
   "source": [
    "df = pd.read_csv(\"../input/pima-indians-diabetes-database/diabetes.csv\")"
   ]
  },
  {
   "cell_type": "code",
   "execution_count": 3,
   "id": "0b75d2cc",
   "metadata": {
    "execution": {
     "iopub.execute_input": "2022-05-27T15:45:58.701596Z",
     "iopub.status.busy": "2022-05-27T15:45:58.700931Z",
     "iopub.status.idle": "2022-05-27T15:45:58.725111Z",
     "shell.execute_reply": "2022-05-27T15:45:58.725689Z",
     "shell.execute_reply.started": "2022-05-27T15:15:26.152193Z"
    },
    "papermill": {
     "duration": 0.048746,
     "end_time": "2022-05-27T15:45:58.725866",
     "exception": false,
     "start_time": "2022-05-27T15:45:58.677120",
     "status": "completed"
    },
    "tags": []
   },
   "outputs": [
    {
     "data": {
      "text/html": [
       "<div>\n",
       "<style scoped>\n",
       "    .dataframe tbody tr th:only-of-type {\n",
       "        vertical-align: middle;\n",
       "    }\n",
       "\n",
       "    .dataframe tbody tr th {\n",
       "        vertical-align: top;\n",
       "    }\n",
       "\n",
       "    .dataframe thead th {\n",
       "        text-align: right;\n",
       "    }\n",
       "</style>\n",
       "<table border=\"1\" class=\"dataframe\">\n",
       "  <thead>\n",
       "    <tr style=\"text-align: right;\">\n",
       "      <th></th>\n",
       "      <th>Pregnancies</th>\n",
       "      <th>Glucose</th>\n",
       "      <th>BloodPressure</th>\n",
       "      <th>SkinThickness</th>\n",
       "      <th>Insulin</th>\n",
       "      <th>BMI</th>\n",
       "      <th>DiabetesPedigreeFunction</th>\n",
       "      <th>Age</th>\n",
       "      <th>Outcome</th>\n",
       "    </tr>\n",
       "  </thead>\n",
       "  <tbody>\n",
       "    <tr>\n",
       "      <th>0</th>\n",
       "      <td>6</td>\n",
       "      <td>148</td>\n",
       "      <td>72</td>\n",
       "      <td>35</td>\n",
       "      <td>0</td>\n",
       "      <td>33.6</td>\n",
       "      <td>0.627</td>\n",
       "      <td>50</td>\n",
       "      <td>1</td>\n",
       "    </tr>\n",
       "    <tr>\n",
       "      <th>1</th>\n",
       "      <td>1</td>\n",
       "      <td>85</td>\n",
       "      <td>66</td>\n",
       "      <td>29</td>\n",
       "      <td>0</td>\n",
       "      <td>26.6</td>\n",
       "      <td>0.351</td>\n",
       "      <td>31</td>\n",
       "      <td>0</td>\n",
       "    </tr>\n",
       "    <tr>\n",
       "      <th>2</th>\n",
       "      <td>8</td>\n",
       "      <td>183</td>\n",
       "      <td>64</td>\n",
       "      <td>0</td>\n",
       "      <td>0</td>\n",
       "      <td>23.3</td>\n",
       "      <td>0.672</td>\n",
       "      <td>32</td>\n",
       "      <td>1</td>\n",
       "    </tr>\n",
       "    <tr>\n",
       "      <th>3</th>\n",
       "      <td>1</td>\n",
       "      <td>89</td>\n",
       "      <td>66</td>\n",
       "      <td>23</td>\n",
       "      <td>94</td>\n",
       "      <td>28.1</td>\n",
       "      <td>0.167</td>\n",
       "      <td>21</td>\n",
       "      <td>0</td>\n",
       "    </tr>\n",
       "    <tr>\n",
       "      <th>4</th>\n",
       "      <td>0</td>\n",
       "      <td>137</td>\n",
       "      <td>40</td>\n",
       "      <td>35</td>\n",
       "      <td>168</td>\n",
       "      <td>43.1</td>\n",
       "      <td>2.288</td>\n",
       "      <td>33</td>\n",
       "      <td>1</td>\n",
       "    </tr>\n",
       "    <tr>\n",
       "      <th>5</th>\n",
       "      <td>5</td>\n",
       "      <td>116</td>\n",
       "      <td>74</td>\n",
       "      <td>0</td>\n",
       "      <td>0</td>\n",
       "      <td>25.6</td>\n",
       "      <td>0.201</td>\n",
       "      <td>30</td>\n",
       "      <td>0</td>\n",
       "    </tr>\n",
       "    <tr>\n",
       "      <th>6</th>\n",
       "      <td>3</td>\n",
       "      <td>78</td>\n",
       "      <td>50</td>\n",
       "      <td>32</td>\n",
       "      <td>88</td>\n",
       "      <td>31.0</td>\n",
       "      <td>0.248</td>\n",
       "      <td>26</td>\n",
       "      <td>1</td>\n",
       "    </tr>\n",
       "    <tr>\n",
       "      <th>7</th>\n",
       "      <td>10</td>\n",
       "      <td>115</td>\n",
       "      <td>0</td>\n",
       "      <td>0</td>\n",
       "      <td>0</td>\n",
       "      <td>35.3</td>\n",
       "      <td>0.134</td>\n",
       "      <td>29</td>\n",
       "      <td>0</td>\n",
       "    </tr>\n",
       "    <tr>\n",
       "      <th>8</th>\n",
       "      <td>2</td>\n",
       "      <td>197</td>\n",
       "      <td>70</td>\n",
       "      <td>45</td>\n",
       "      <td>543</td>\n",
       "      <td>30.5</td>\n",
       "      <td>0.158</td>\n",
       "      <td>53</td>\n",
       "      <td>1</td>\n",
       "    </tr>\n",
       "    <tr>\n",
       "      <th>9</th>\n",
       "      <td>8</td>\n",
       "      <td>125</td>\n",
       "      <td>96</td>\n",
       "      <td>0</td>\n",
       "      <td>0</td>\n",
       "      <td>0.0</td>\n",
       "      <td>0.232</td>\n",
       "      <td>54</td>\n",
       "      <td>1</td>\n",
       "    </tr>\n",
       "  </tbody>\n",
       "</table>\n",
       "</div>"
      ],
      "text/plain": [
       "   Pregnancies  Glucose  BloodPressure  SkinThickness  Insulin   BMI  \\\n",
       "0            6      148             72             35        0  33.6   \n",
       "1            1       85             66             29        0  26.6   \n",
       "2            8      183             64              0        0  23.3   \n",
       "3            1       89             66             23       94  28.1   \n",
       "4            0      137             40             35      168  43.1   \n",
       "5            5      116             74              0        0  25.6   \n",
       "6            3       78             50             32       88  31.0   \n",
       "7           10      115              0              0        0  35.3   \n",
       "8            2      197             70             45      543  30.5   \n",
       "9            8      125             96              0        0   0.0   \n",
       "\n",
       "   DiabetesPedigreeFunction  Age  Outcome  \n",
       "0                     0.627   50        1  \n",
       "1                     0.351   31        0  \n",
       "2                     0.672   32        1  \n",
       "3                     0.167   21        0  \n",
       "4                     2.288   33        1  \n",
       "5                     0.201   30        0  \n",
       "6                     0.248   26        1  \n",
       "7                     0.134   29        0  \n",
       "8                     0.158   53        1  \n",
       "9                     0.232   54        1  "
      ]
     },
     "execution_count": 3,
     "metadata": {},
     "output_type": "execute_result"
    }
   ],
   "source": [
    "df.head(10)"
   ]
  },
  {
   "cell_type": "code",
   "execution_count": 4,
   "id": "0d58595c",
   "metadata": {
    "execution": {
     "iopub.execute_input": "2022-05-27T15:45:58.790485Z",
     "iopub.status.busy": "2022-05-27T15:45:58.789777Z",
     "iopub.status.idle": "2022-05-27T15:45:58.832425Z",
     "shell.execute_reply": "2022-05-27T15:45:58.831799Z",
     "shell.execute_reply.started": "2022-05-27T15:15:26.182512Z"
    },
    "papermill": {
     "duration": 0.080007,
     "end_time": "2022-05-27T15:45:58.832581",
     "exception": false,
     "start_time": "2022-05-27T15:45:58.752574",
     "status": "completed"
    },
    "tags": []
   },
   "outputs": [
    {
     "data": {
      "text/html": [
       "<div>\n",
       "<style scoped>\n",
       "    .dataframe tbody tr th:only-of-type {\n",
       "        vertical-align: middle;\n",
       "    }\n",
       "\n",
       "    .dataframe tbody tr th {\n",
       "        vertical-align: top;\n",
       "    }\n",
       "\n",
       "    .dataframe thead th {\n",
       "        text-align: right;\n",
       "    }\n",
       "</style>\n",
       "<table border=\"1\" class=\"dataframe\">\n",
       "  <thead>\n",
       "    <tr style=\"text-align: right;\">\n",
       "      <th></th>\n",
       "      <th>Pregnancies</th>\n",
       "      <th>Glucose</th>\n",
       "      <th>BloodPressure</th>\n",
       "      <th>SkinThickness</th>\n",
       "      <th>Insulin</th>\n",
       "      <th>BMI</th>\n",
       "      <th>DiabetesPedigreeFunction</th>\n",
       "      <th>Age</th>\n",
       "      <th>Outcome</th>\n",
       "    </tr>\n",
       "  </thead>\n",
       "  <tbody>\n",
       "    <tr>\n",
       "      <th>count</th>\n",
       "      <td>768.000000</td>\n",
       "      <td>768.000000</td>\n",
       "      <td>768.000000</td>\n",
       "      <td>768.000000</td>\n",
       "      <td>768.000000</td>\n",
       "      <td>768.000000</td>\n",
       "      <td>768.000000</td>\n",
       "      <td>768.000000</td>\n",
       "      <td>768.000000</td>\n",
       "    </tr>\n",
       "    <tr>\n",
       "      <th>mean</th>\n",
       "      <td>3.845052</td>\n",
       "      <td>120.894531</td>\n",
       "      <td>69.105469</td>\n",
       "      <td>20.536458</td>\n",
       "      <td>79.799479</td>\n",
       "      <td>31.992578</td>\n",
       "      <td>0.471876</td>\n",
       "      <td>33.240885</td>\n",
       "      <td>0.348958</td>\n",
       "    </tr>\n",
       "    <tr>\n",
       "      <th>std</th>\n",
       "      <td>3.369578</td>\n",
       "      <td>31.972618</td>\n",
       "      <td>19.355807</td>\n",
       "      <td>15.952218</td>\n",
       "      <td>115.244002</td>\n",
       "      <td>7.884160</td>\n",
       "      <td>0.331329</td>\n",
       "      <td>11.760232</td>\n",
       "      <td>0.476951</td>\n",
       "    </tr>\n",
       "    <tr>\n",
       "      <th>min</th>\n",
       "      <td>0.000000</td>\n",
       "      <td>0.000000</td>\n",
       "      <td>0.000000</td>\n",
       "      <td>0.000000</td>\n",
       "      <td>0.000000</td>\n",
       "      <td>0.000000</td>\n",
       "      <td>0.078000</td>\n",
       "      <td>21.000000</td>\n",
       "      <td>0.000000</td>\n",
       "    </tr>\n",
       "    <tr>\n",
       "      <th>25%</th>\n",
       "      <td>1.000000</td>\n",
       "      <td>99.000000</td>\n",
       "      <td>62.000000</td>\n",
       "      <td>0.000000</td>\n",
       "      <td>0.000000</td>\n",
       "      <td>27.300000</td>\n",
       "      <td>0.243750</td>\n",
       "      <td>24.000000</td>\n",
       "      <td>0.000000</td>\n",
       "    </tr>\n",
       "    <tr>\n",
       "      <th>50%</th>\n",
       "      <td>3.000000</td>\n",
       "      <td>117.000000</td>\n",
       "      <td>72.000000</td>\n",
       "      <td>23.000000</td>\n",
       "      <td>30.500000</td>\n",
       "      <td>32.000000</td>\n",
       "      <td>0.372500</td>\n",
       "      <td>29.000000</td>\n",
       "      <td>0.000000</td>\n",
       "    </tr>\n",
       "    <tr>\n",
       "      <th>75%</th>\n",
       "      <td>6.000000</td>\n",
       "      <td>140.250000</td>\n",
       "      <td>80.000000</td>\n",
       "      <td>32.000000</td>\n",
       "      <td>127.250000</td>\n",
       "      <td>36.600000</td>\n",
       "      <td>0.626250</td>\n",
       "      <td>41.000000</td>\n",
       "      <td>1.000000</td>\n",
       "    </tr>\n",
       "    <tr>\n",
       "      <th>max</th>\n",
       "      <td>17.000000</td>\n",
       "      <td>199.000000</td>\n",
       "      <td>122.000000</td>\n",
       "      <td>99.000000</td>\n",
       "      <td>846.000000</td>\n",
       "      <td>67.100000</td>\n",
       "      <td>2.420000</td>\n",
       "      <td>81.000000</td>\n",
       "      <td>1.000000</td>\n",
       "    </tr>\n",
       "  </tbody>\n",
       "</table>\n",
       "</div>"
      ],
      "text/plain": [
       "       Pregnancies     Glucose  BloodPressure  SkinThickness     Insulin  \\\n",
       "count   768.000000  768.000000     768.000000     768.000000  768.000000   \n",
       "mean      3.845052  120.894531      69.105469      20.536458   79.799479   \n",
       "std       3.369578   31.972618      19.355807      15.952218  115.244002   \n",
       "min       0.000000    0.000000       0.000000       0.000000    0.000000   \n",
       "25%       1.000000   99.000000      62.000000       0.000000    0.000000   \n",
       "50%       3.000000  117.000000      72.000000      23.000000   30.500000   \n",
       "75%       6.000000  140.250000      80.000000      32.000000  127.250000   \n",
       "max      17.000000  199.000000     122.000000      99.000000  846.000000   \n",
       "\n",
       "              BMI  DiabetesPedigreeFunction         Age     Outcome  \n",
       "count  768.000000                768.000000  768.000000  768.000000  \n",
       "mean    31.992578                  0.471876   33.240885    0.348958  \n",
       "std      7.884160                  0.331329   11.760232    0.476951  \n",
       "min      0.000000                  0.078000   21.000000    0.000000  \n",
       "25%     27.300000                  0.243750   24.000000    0.000000  \n",
       "50%     32.000000                  0.372500   29.000000    0.000000  \n",
       "75%     36.600000                  0.626250   41.000000    1.000000  \n",
       "max     67.100000                  2.420000   81.000000    1.000000  "
      ]
     },
     "execution_count": 4,
     "metadata": {},
     "output_type": "execute_result"
    }
   ],
   "source": [
    "df.describe()"
   ]
  },
  {
   "cell_type": "code",
   "execution_count": 5,
   "id": "f80f61ba",
   "metadata": {
    "execution": {
     "iopub.execute_input": "2022-05-27T15:45:58.882360Z",
     "iopub.status.busy": "2022-05-27T15:45:58.881342Z",
     "iopub.status.idle": "2022-05-27T15:45:58.886970Z",
     "shell.execute_reply": "2022-05-27T15:45:58.887437Z",
     "shell.execute_reply.started": "2022-05-27T15:15:26.233074Z"
    },
    "papermill": {
     "duration": 0.032096,
     "end_time": "2022-05-27T15:45:58.887613",
     "exception": false,
     "start_time": "2022-05-27T15:45:58.855517",
     "status": "completed"
    },
    "tags": []
   },
   "outputs": [
    {
     "data": {
      "text/plain": [
       "Index(['Pregnancies', 'Glucose', 'BloodPressure', 'SkinThickness', 'Insulin',\n",
       "       'BMI', 'DiabetesPedigreeFunction', 'Age', 'Outcome'],\n",
       "      dtype='object')"
      ]
     },
     "execution_count": 5,
     "metadata": {},
     "output_type": "execute_result"
    }
   ],
   "source": [
    "df.columns"
   ]
  },
  {
   "cell_type": "markdown",
   "id": "62ff250b",
   "metadata": {
    "papermill": {
     "duration": 0.022945,
     "end_time": "2022-05-27T15:45:58.933692",
     "exception": false,
     "start_time": "2022-05-27T15:45:58.910747",
     "status": "completed"
    },
    "tags": []
   },
   "source": [
    "# Representation of graph"
   ]
  },
  {
   "cell_type": "code",
   "execution_count": null,
   "id": "ad084db2",
   "metadata": {
    "papermill": {
     "duration": 0.023171,
     "end_time": "2022-05-27T15:45:58.980374",
     "exception": false,
     "start_time": "2022-05-27T15:45:58.957203",
     "status": "completed"
    },
    "tags": []
   },
   "outputs": [],
   "source": []
  },
  {
   "cell_type": "markdown",
   "id": "c8472543",
   "metadata": {
    "papermill": {
     "duration": 0.023156,
     "end_time": "2022-05-27T15:45:59.027208",
     "exception": false,
     "start_time": "2022-05-27T15:45:59.004052",
     "status": "completed"
    },
    "tags": []
   },
   "source": [
    "# Correlations"
   ]
  },
  {
   "cell_type": "code",
   "execution_count": 6,
   "id": "55ba6dfb",
   "metadata": {
    "execution": {
     "iopub.execute_input": "2022-05-27T15:45:59.086056Z",
     "iopub.status.busy": "2022-05-27T15:45:59.085056Z",
     "iopub.status.idle": "2022-05-27T15:45:59.091433Z",
     "shell.execute_reply": "2022-05-27T15:45:59.091914Z",
     "shell.execute_reply.started": "2022-05-27T15:15:26.241127Z"
    },
    "papermill": {
     "duration": 0.038974,
     "end_time": "2022-05-27T15:45:59.092092",
     "exception": false,
     "start_time": "2022-05-27T15:45:59.053118",
     "status": "completed"
    },
    "tags": []
   },
   "outputs": [],
   "source": [
    "tabcorr = df.corr()"
   ]
  },
  {
   "cell_type": "code",
   "execution_count": 7,
   "id": "e4b5753a",
   "metadata": {
    "execution": {
     "iopub.execute_input": "2022-05-27T15:45:59.144820Z",
     "iopub.status.busy": "2022-05-27T15:45:59.143725Z",
     "iopub.status.idle": "2022-05-27T15:45:59.922015Z",
     "shell.execute_reply": "2022-05-27T15:45:59.922547Z",
     "shell.execute_reply.started": "2022-05-27T15:15:26.260853Z"
    },
    "papermill": {
     "duration": 0.806516,
     "end_time": "2022-05-27T15:45:59.922724",
     "exception": false,
     "start_time": "2022-05-27T15:45:59.116208",
     "status": "completed"
    },
    "tags": []
   },
   "outputs": [
    {
     "data": {
      "text/plain": [
       "<AxesSubplot:>"
      ]
     },
     "execution_count": 7,
     "metadata": {},
     "output_type": "execute_result"
    },
    {
     "data": {
      "image/png": "[encoded data removed]",
      "text/plain": [
       "<Figure size 864x864 with 2 Axes>"
      ]
     },
     "metadata": {
      "needs_background": "light"
     },
     "output_type": "display_data"
    }
   ],
   "source": [
    "plt.figure(figsize=(12,12))\n",
    "sns.heatmap(abs(tabcorr), annot=True)"
   ]
  },
  {
   "cell_type": "code",
   "execution_count": 8,
   "id": "7f815789",
   "metadata": {
    "execution": {
     "iopub.execute_input": "2022-05-27T15:45:59.981871Z",
     "iopub.status.busy": "2022-05-27T15:45:59.978536Z",
     "iopub.status.idle": "2022-05-27T15:46:00.225385Z",
     "shell.execute_reply": "2022-05-27T15:46:00.225898Z",
     "shell.execute_reply.started": "2022-05-27T15:15:27.099266Z"
    },
    "papermill": {
     "duration": 0.277144,
     "end_time": "2022-05-27T15:46:00.226069",
     "exception": false,
     "start_time": "2022-05-27T15:45:59.948925",
     "status": "completed"
    },
    "tags": []
   },
   "outputs": [
    {
     "data": {
      "image/png": "[encoded data removed]",
      "text/plain": [
       "<Figure size 864x864 with 1 Axes>"
      ]
     },
     "metadata": {
      "needs_background": "light"
     },
     "output_type": "display_data"
    }
   ],
   "source": [
    "from scipy.cluster import hierarchy as hc\n",
    "\n",
    "corr = 1 - df.corr()\n",
    "corr_condensed = hc.distance.squareform(corr)\n",
    "link = hc.linkage(corr_condensed, method='ward')\n",
    "plt.figure(figsize=(12,12))\n",
    "den = hc.dendrogram(link, labels=df.columns, orientation='left', leaf_font_size=10)"
   ]
  },
  {
   "cell_type": "markdown",
   "id": "c4e69d70",
   "metadata": {
    "papermill": {
     "duration": 0.026539,
     "end_time": "2022-05-27T15:46:00.279659",
     "exception": false,
     "start_time": "2022-05-27T15:46:00.253120",
     "status": "completed"
    },
    "tags": []
   },
   "source": [
    "# Preview"
   ]
  },
  {
   "cell_type": "code",
   "execution_count": 9,
   "id": "73c2e434",
   "metadata": {
    "execution": {
     "iopub.execute_input": "2022-05-27T15:46:00.338727Z",
     "iopub.status.busy": "2022-05-27T15:46:00.337952Z",
     "iopub.status.idle": "2022-05-27T15:46:00.347369Z",
     "shell.execute_reply": "2022-05-27T15:46:00.346646Z",
     "shell.execute_reply.started": "2022-05-27T15:15:27.362653Z"
    },
    "papermill": {
     "duration": 0.040555,
     "end_time": "2022-05-27T15:46:00.347518",
     "exception": false,
     "start_time": "2022-05-27T15:46:00.306963",
     "status": "completed"
    },
    "tags": []
   },
   "outputs": [],
   "source": [
    "X = df.drop(['Outcome'], axis=1)\n",
    "y = df.Outcome\n",
    "X_train, X_test, y_train, y_test = train_test_split(X, y, test_size=0.1, random_state=1)"
   ]
  },
  {
   "cell_type": "code",
   "execution_count": 10,
   "id": "79b9418e",
   "metadata": {
    "execution": {
     "iopub.execute_input": "2022-05-27T15:46:00.406685Z",
     "iopub.status.busy": "2022-05-27T15:46:00.405972Z",
     "iopub.status.idle": "2022-05-27T15:46:00.408779Z",
     "shell.execute_reply": "2022-05-27T15:46:00.408243Z",
     "shell.execute_reply.started": "2022-05-27T15:15:27.375268Z"
    },
    "papermill": {
     "duration": 0.034422,
     "end_time": "2022-05-27T15:46:00.408926",
     "exception": false,
     "start_time": "2022-05-27T15:46:00.374504",
     "status": "completed"
    },
    "tags": []
   },
   "outputs": [],
   "source": [
    "from sklearn.linear_model import LinearRegression"
   ]
  },
  {
   "cell_type": "code",
   "execution_count": 11,
   "id": "0b219b92",
   "metadata": {
    "execution": {
     "iopub.execute_input": "2022-05-27T15:46:00.487581Z",
     "iopub.status.busy": "2022-05-27T15:46:00.470222Z",
     "iopub.status.idle": "2022-05-27T15:46:00.493495Z",
     "shell.execute_reply": "2022-05-27T15:46:00.492782Z",
     "shell.execute_reply.started": "2022-05-27T15:15:27.387677Z"
    },
    "papermill": {
     "duration": 0.057486,
     "end_time": "2022-05-27T15:46:00.493639",
     "exception": false,
     "start_time": "2022-05-27T15:46:00.436153",
     "status": "completed"
    },
    "tags": []
   },
   "outputs": [],
   "source": [
    "lm = LinearRegression()\n",
    "lm.fit(X_train, y_train)\n",
    "y_pred = lm.predict(X_test)"
   ]
  },
  {
   "cell_type": "code",
   "execution_count": 12,
   "id": "bb8fc1ca",
   "metadata": {
    "execution": {
     "iopub.execute_input": "2022-05-27T15:46:00.553124Z",
     "iopub.status.busy": "2022-05-27T15:46:00.552202Z",
     "iopub.status.idle": "2022-05-27T15:46:00.799709Z",
     "shell.execute_reply": "2022-05-27T15:46:00.800287Z",
     "shell.execute_reply.started": "2022-05-27T15:15:27.424013Z"
    },
    "papermill": {
     "duration": 0.279758,
     "end_time": "2022-05-27T15:46:00.800486",
     "exception": false,
     "start_time": "2022-05-27T15:46:00.520728",
     "status": "completed"
    },
    "tags": []
   },
   "outputs": [
    {
     "name": "stderr",
     "output_type": "stream",
     "text": [
      "/opt/conda/lib/python3.7/site-packages/seaborn/distributions.py:2619: FutureWarning: `distplot` is a deprecated function and will be removed in a future version. Please adapt your code to use either `displot` (a figure-level function with similar flexibility) or `histplot` (an axes-level function for histograms).\n",
      "  warnings.warn(msg, FutureWarning)\n"
     ]
    },
    {
     "data": {
      "text/plain": [
       "<AxesSubplot:xlabel='Outcome', ylabel='Density'>"
      ]
     },
     "execution_count": 12,
     "metadata": {},
     "output_type": "execute_result"
    },
    {
     "data": {
      "image/png": "[encoded data removed]",
      "text/plain": [
       "<Figure size 432x288 with 1 Axes>"
      ]
     },
     "metadata": {
      "needs_background": "light"
     },
     "output_type": "display_data"
    }
   ],
   "source": [
    "sns.distplot(y_test-y_pred)"
   ]
  },
  {
   "cell_type": "code",
   "execution_count": 13,
   "id": "4434f72a",
   "metadata": {
    "execution": {
     "iopub.execute_input": "2022-05-27T15:46:00.861538Z",
     "iopub.status.busy": "2022-05-27T15:46:00.860760Z",
     "iopub.status.idle": "2022-05-27T15:46:01.254844Z",
     "shell.execute_reply": "2022-05-27T15:46:01.255502Z",
     "shell.execute_reply.started": "2022-05-27T15:15:27.671369Z"
    },
    "papermill": {
     "duration": 0.426426,
     "end_time": "2022-05-27T15:46:01.255711",
     "exception": false,
     "start_time": "2022-05-27T15:46:00.829285",
     "status": "completed"
    },
    "tags": []
   },
   "outputs": [
    {
     "name": "stdout",
     "output_type": "stream",
     "text": [
      "0.45229324712643715\n"
     ]
    }
   ],
   "source": [
    "from sklearn import ensemble\n",
    "rf = ensemble.RandomForestRegressor()\n",
    "rf.fit(X_train, y_train)\n",
    "y_rf = rf.predict(X_test)\n",
    "print(rf.score(X_test,y_test))"
   ]
  },
  {
   "cell_type": "code",
   "execution_count": 14,
   "id": "39ac3d70",
   "metadata": {
    "execution": {
     "iopub.execute_input": "2022-05-27T15:46:01.322197Z",
     "iopub.status.busy": "2022-05-27T15:46:01.321501Z",
     "iopub.status.idle": "2022-05-27T15:46:01.326211Z",
     "shell.execute_reply": "2022-05-27T15:46:01.325329Z",
     "shell.execute_reply.started": "2022-05-27T15:15:28.114814Z"
    },
    "papermill": {
     "duration": 0.041171,
     "end_time": "2022-05-27T15:46:01.326421",
     "exception": false,
     "start_time": "2022-05-27T15:46:01.285250",
     "status": "completed"
    },
    "tags": []
   },
   "outputs": [
    {
     "name": "stdout",
     "output_type": "stream",
     "text": [
      "0.35859393523818883\n"
     ]
    }
   ],
   "source": [
    "print(np.sqrt(mean_squared_error(y_test, y_rf)))"
   ]
  },
  {
   "cell_type": "markdown",
   "id": "84b302a5",
   "metadata": {
    "papermill": {
     "duration": 0.029152,
     "end_time": "2022-05-27T15:46:01.386392",
     "exception": false,
     "start_time": "2022-05-27T15:46:01.357240",
     "status": "completed"
    },
    "tags": []
   },
   "source": [
    "# Process dataset"
   ]
  },
  {
   "cell_type": "markdown",
   "id": "f109b110",
   "metadata": {
    "papermill": {
     "duration": 0.029021,
     "end_time": "2022-05-27T15:46:01.445396",
     "exception": false,
     "start_time": "2022-05-27T15:46:01.416375",
     "status": "completed"
    },
    "tags": []
   },
   "source": [
    "## Remplacement des 0 par des Nans"
   ]
  },
  {
   "cell_type": "code",
   "execution_count": 15,
   "id": "bb458acf",
   "metadata": {
    "execution": {
     "iopub.execute_input": "2022-05-27T15:46:01.515949Z",
     "iopub.status.busy": "2022-05-27T15:46:01.515172Z",
     "iopub.status.idle": "2022-05-27T15:46:01.522677Z",
     "shell.execute_reply": "2022-05-27T15:46:01.523182Z",
     "shell.execute_reply.started": "2022-05-27T15:15:28.123477Z"
    },
    "papermill": {
     "duration": 0.04822,
     "end_time": "2022-05-27T15:46:01.523375",
     "exception": false,
     "start_time": "2022-05-27T15:46:01.475155",
     "status": "completed"
    },
    "tags": []
   },
   "outputs": [
    {
     "name": "stdout",
     "output_type": "stream",
     "text": [
      "Pregnancies                   0\n",
      "Glucose                       5\n",
      "BloodPressure                35\n",
      "SkinThickness               227\n",
      "Insulin                     374\n",
      "BMI                          11\n",
      "DiabetesPedigreeFunction      0\n",
      "Age                           0\n",
      "Outcome                       0\n",
      "dtype: int64\n"
     ]
    }
   ],
   "source": [
    "#df = df.copy(deep = True)\n",
    "df[['Glucose','BloodPressure','SkinThickness','Insulin','BMI']] = df[['Glucose','BloodPressure','SkinThickness','Insulin','BMI']].replace(0,np.NaN)\n",
    "\n",
    "## Nombre de Nans\n",
    "print(df.isnull().sum())"
   ]
  },
  {
   "cell_type": "code",
   "execution_count": null,
   "id": "a30d573b",
   "metadata": {
    "papermill": {
     "duration": 0.029708,
     "end_time": "2022-05-27T15:46:01.582981",
     "exception": false,
     "start_time": "2022-05-27T15:46:01.553273",
     "status": "completed"
    },
    "tags": []
   },
   "outputs": [],
   "source": []
  }
 ],
 "metadata": {
  "kernelspec": {
   "display_name": "Python 3",
   "language": "python",
   "name": "python3"
  },
  "language_info": {
   "codemirror_mode": {
    "name": "ipython",
    "version": 3
   },
   "file_extension": ".py",
   "mimetype": "text/x-python",
   "name": "python",
   "nbconvert_exporter": "python",
   "pygments_lexer": "ipython3",
   "version": "3.7.12"
  },
  "papermill": {
   "default_parameters": {},
   "duration": 16.875108,
   "end_time": "2022-05-27T15:46:02.424070",
   "environment_variables": {},
   "exception": null,
   "input_path": "__notebook__.ipynb",
   "output_path": "__notebook__.ipynb",
   "parameters": {},
   "start_time": "2022-05-27T15:45:45.548962",
   "version": "2.3.3"
  }
 },
 "nbformat": 4,
 "nbformat_minor": 5
}
